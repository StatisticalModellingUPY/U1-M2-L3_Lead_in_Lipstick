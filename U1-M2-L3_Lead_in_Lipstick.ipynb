{
 "cells": [
  {
   "cell_type": "markdown",
   "metadata": {},
   "source": [
    "Before you turn this problem in, make sure everything runs as expected. First, **restart the kernel** (in the menubar, select Kernel$\\rightarrow$Restart) and then **run all cells** (in the menubar, select Cell$\\rightarrow$Run All).\n",
    "\n",
    "Make sure you fill in any place that says `YOUR CODE HERE` or \"YOUR ANSWER HERE\", as well as your name and group below:"
   ]
  },
  {
   "cell_type": "code",
   "execution_count": null,
   "metadata": {},
   "outputs": [],
   "source": [
    "COURSE = \"StatModels_2020_q3\"\n",
    "GROUP = \"\" # Either D2A or D2B\n",
    "NAME = \"\" # Match your GitHub Classroom ID"
   ]
  },
  {
   "cell_type": "markdown",
   "metadata": {},
   "source": [
    "---"
   ]
  },
  {
   "cell_type": "markdown",
   "metadata": {},
   "source": [
    "###### Content under Creative Commons Attribution license CC-BY 4.0, code under BSD 3-Clause License © 2017 L.A. Barba, N.C. Clementi\n",
    "###### Modified (2020) Gonzalo G. Peraza Mues"
   ]
  },
  {
   "cell_type": "markdown",
   "metadata": {},
   "source": [
    "# Lead in Lipstick\n",
    "\n",
    "After completing Lesson 1 and Lesson 2 of Module 2 of our course, here we'll work out a full example of what you can do with all that you've learned.\n",
    "\n",
    "This example is based on the lecture by Prof. Kristin Sainani at Stanford, [\"Exploring real data: lead in lipstick,\"](https://youtu.be/nlKIT-_b2jU) of her online course [\"Statistics in Medicine,\"](https://lagunita.stanford.edu/courses/Medicine/MedStats-SP/SelfPaced/about). We followed along her narration, searched online for the sources she cited and the data from the FDA studies, and worked out the descriptive statistics using Python. We hope you'll enjoy it!"
   ]
  },
  {
   "cell_type": "markdown",
   "metadata": {},
   "source": [
    "## In the news\n",
    "\n",
    "In 2007, some alarming reports appeared in the media: a US consumer-rights group had tested 33 brand-name lipsticks, and found that 61% had detectable lead levels of 0.03 to 0.65 parts per million (ppm). A full one-third of the lipsticks tested exceeded the lead level set by the US Food and Drug Administration (FDA) as the limit for candy: 0.1 ppm. Here are some media reports:\n",
    "\n",
    "* Reuters published on Oct. 12, 2007: [Lipsticks contain lead, consumer group says](https://www.reuters.com/article/us-lipstick-lead/lipsticks-contain-lead-consumer-group-says-idUSN1140964520071012)—it quotes a doctor as saying: \"Lead builds up in the body over time and lead-containing lipstick applied several times a day, every day, can add up to significant exposure levels.\"\n",
    "* CTV.ca News published [FDA to examine claim of lead levels in lipstick](http://www.ctvnews.ca/fda-to-examine-claim-of-lead-levels-in-lipstick-1.259946)—it quoted one member of the Campaign for Safe Cosmetics as saying: \"We want the companies to immediately re-formulate their products to get the lead out and ultimately, really we need to change the laws and force these companies to be accountable to women's health.\"\n",
    "* The New York Times was more measured in [The Claim: Some Red Lipstick Brands Contain High Lead Levels](http://www.nytimes.com/2007/11/13/health/13real.html) (Nov. 13, 2007), concluding: \"Studies have found that lead in lipstick is not a cause for concern, but research is continuing.\"\n",
    "\n",
    "The FDA did carry out new studies in 2009 and 2012 to try to determine if lead content was a concern for lipstick users. These new studies generated some new scary headlines!\n",
    "\n",
    "* On the Washington Post: [400 lipsticks found to contain lead, FDA says](https://www.washingtonpost.com/business/economy/400-lipstick-brands-contain-lead-fda-says/2012/02/14/gIQAhOyeDR_story.html?utm_term=.e3622592e0e7)—the FDA is quoted as stating \"We do not consider the lead levels we found in the lipsticks to be a safety concern…\"\n",
    "* In Time Magazine: [What's in Your Lipstick? FDA Finds Lead in 400 Shades](http://healthland.time.com/2012/02/15/whats-in-your-lipstick-fda-finds-lead-in-400-shades/)—a campaigner is quoted as saying: \"We want to see the FDA recommend a limit based on the lowest level a company can achieve, like candy manufacturers are required.\"\n",
    "\n",
    "Should lipstick users be concerned? Let's fact-check those scary headlines using our stats chops with Python!"
   ]
  },
  {
   "cell_type": "markdown",
   "metadata": {},
   "source": [
    "## The FDA studies\n",
    "\n",
    "We located a web page of the US Food and Drug Administration, titled [Limiting Lead in Lipstick and Other Cosmetics](https://www.fda.gov/cosmetics/productsingredients/products/ucm137224.htm#reference1), that describes their efforts to assess the safety concerns from lead impurities in cosmetics. The web page includes data tables for the initial study in 2009, with 22 lipsticks, and the expanded study in 2012, with 400 lipsticks. \n",
    "\n",
    "We copied these tables from the web page and created CSV files with the data.\n",
    "\n",
    "Let's begin by loading our Python libraries for data analysis: `numpy`, `pandas` and `pyplot`. We'll also load the `rcParams` module for setting Matplotlib's plotting parameters, and set the font family and size to serif 16 points."
   ]
  },
  {
   "cell_type": "code",
   "execution_count": null,
   "metadata": {},
   "outputs": [],
   "source": [
    "import numpy as np\n",
    "import pandas as pd\n",
    "import matplotlib.pyplot as plt\n",
    "%matplotlib inline\n",
    "\n",
    "#Import rcParams to set font styles\n",
    "from matplotlib import rcParams\n",
    "\n",
    "#Set font style and size \n",
    "rcParams['font.family'] = 'serif'\n",
    "rcParams['font.size'] = 16"
   ]
  },
  {
   "cell_type": "code",
   "execution_count": null,
   "metadata": {
    "deletable": false,
    "nbgrader": {
     "cell_type": "code",
     "checksum": "50a886f8b1e3a657351fd032c79ab73b",
     "grade": false,
     "grade_id": "cell-c68b2a15cce2a9ce",
     "locked": false,
     "schema_version": 3,
     "solution": true,
     "task": false
    }
   },
   "outputs": [],
   "source": [
    "# Load the FDA 2009 data set using pandas, and assign it the dataframe `leadlips2009`.\n",
    "# The dataset is located in the data directory.\n",
    "# YOUR CODE HERE\n",
    "raise NotImplementedError()"
   ]
  },
  {
   "cell_type": "code",
   "execution_count": null,
   "metadata": {
    "deletable": false,
    "editable": false,
    "nbgrader": {
     "cell_type": "code",
     "checksum": "b84400f6c6bbdfed611eac4e6b7d2f0f",
     "grade": true,
     "grade_id": "cell-23a93e800fc0a986",
     "locked": true,
     "points": 1,
     "schema_version": 3,
     "solution": false,
     "task": false
    }
   },
   "outputs": [],
   "source": []
  },
  {
   "cell_type": "markdown",
   "metadata": {},
   "source": [
    "As always, we take a quick peek at the data, now saved in a `pandas` dataframe named `leadlips2009`, and then we get a view of its distribution by plotting a histograms."
   ]
  },
  {
   "cell_type": "code",
   "execution_count": null,
   "metadata": {},
   "outputs": [],
   "source": [
    "leadlips2009[0:5]"
   ]
  },
  {
   "cell_type": "markdown",
   "metadata": {},
   "source": [
    "Let's see a histogram of the data column containing the lead content. It's easy with `pandas`, because we can use the column label as a plot argument."
   ]
  },
  {
   "cell_type": "code",
   "execution_count": null,
   "metadata": {},
   "outputs": [],
   "source": [
    "leadlips2009.hist(column='Pb ppm', bins=4, edgecolor='white')\n",
    "plt.title('Lead levels in lipstick, n=22 (2009) \\n');"
   ]
  },
  {
   "cell_type": "markdown",
   "metadata": {},
   "source": [
    "Above, we used the built-in plotting capability of `pandas`. Just for kicks, let's get the same plot but using `pyplot` directly. To do that, remember that we need the data in a NumPy array, for which we use the `Series.values` method, name the array `lead2009`."
   ]
  },
  {
   "cell_type": "code",
   "execution_count": null,
   "metadata": {
    "deletable": false,
    "nbgrader": {
     "cell_type": "code",
     "checksum": "7ada2d57ddabaa77b7ac1a4575c3cc96",
     "grade": false,
     "grade_id": "cell-6ae2dcedab4e360b",
     "locked": false,
     "schema_version": 3,
     "solution": true,
     "task": false
    }
   },
   "outputs": [],
   "source": [
    "# YOUR CODE HERE\n",
    "raise NotImplementedError()"
   ]
  },
  {
   "cell_type": "code",
   "execution_count": null,
   "metadata": {
    "deletable": false,
    "editable": false,
    "nbgrader": {
     "cell_type": "code",
     "checksum": "5dbdbbfddbc81fb3ba0a2b1bc2e1b767",
     "grade": true,
     "grade_id": "cell-4b8664a41b8d64be",
     "locked": true,
     "points": 1,
     "schema_version": 3,
     "solution": false,
     "task": false
    }
   },
   "outputs": [],
   "source": []
  },
  {
   "cell_type": "code",
   "execution_count": null,
   "metadata": {},
   "outputs": [],
   "source": [
    "plt.figure(figsize=(6,4))\n",
    "plt.hist(lead2009, bins=4, color='#3498db', histtype='bar', edgecolor='white') \n",
    "plt.title('Lead levels in lipstick, n=22 (2009) \\n')\n",
    "plt.xlabel('ppm')\n",
    "plt.ylabel('Count');"
   ]
  },
  {
   "cell_type": "markdown",
   "metadata": {},
   "source": [
    "The histograms look the same, except for style. If you are following along with Sainani's lecture, however, you'll note some differences. We confirm that the data is the same by getting the descriptive statistics shown 4-min into the video:"
   ]
  },
  {
   "cell_type": "code",
   "execution_count": null,
   "metadata": {},
   "outputs": [],
   "source": [
    "print('The mean value is {:.2f}'.format(leadlips2009['Pb ppm'].mean()))\n",
    "print('The median is {:.2f}'.format(leadlips2009['Pb ppm'].median()))\n",
    "print('The standard deviation is {:.2f}'.format(leadlips2009['Pb ppm'].std()))\n",
    "print('The maximum value is {:.2f}'.format(leadlips2009['Pb ppm'].max()))"
   ]
  },
  {
   "cell_type": "markdown",
   "metadata": {},
   "source": [
    "All of these match the statistics shown in the video. We do see some slight differences in the percentile values, however. Check them out:"
   ]
  },
  {
   "cell_type": "code",
   "execution_count": null,
   "metadata": {},
   "outputs": [],
   "source": [
    "print('The 99 percentile is {:.2f}'.format(leadlips2009['Pb ppm'].quantile(.99)))\n",
    "print('The 95 percentile is {:.2f}'.format(leadlips2009['Pb ppm'].quantile(.95)))\n",
    "print('The 90 percentile is {:.2f}'.format(leadlips2009['Pb ppm'].quantile(.90)))\n",
    "print('The 75 percentile is {:.2f}'.format(leadlips2009['Pb ppm'].quantile(.75)))"
   ]
  },
  {
   "cell_type": "markdown",
   "metadata": {},
   "source": [
    "#####  **Challenge question**\n",
    "\n",
    "Despite the small difference in some percentile values from those shown on the video, we do think this is the same data that Sainani uses in her example. Look carefully at the histograms: can you explain the differences? (Play around with the plots here as much as you need to explain it.)"
   ]
  },
  {
   "cell_type": "code",
   "execution_count": null,
   "metadata": {
    "deletable": false,
    "nbgrader": {
     "cell_type": "code",
     "checksum": "2739288790becf9083bc5234ae27d843",
     "grade": false,
     "grade_id": "cell-3e403bfbabb0d3f4",
     "locked": false,
     "schema_version": 3,
     "solution": true,
     "task": false
    }
   },
   "outputs": [],
   "source": [
    "# Load the FDA 2012 data set using pandas, and assign it to the dataframe `leadlips2012`\n",
    "# YOUR CODE HERE\n",
    "raise NotImplementedError()"
   ]
  },
  {
   "cell_type": "code",
   "execution_count": null,
   "metadata": {
    "deletable": false,
    "editable": false,
    "nbgrader": {
     "cell_type": "code",
     "checksum": "29940eacf95a0441db3dd203370f21e7",
     "grade": true,
     "grade_id": "cell-7639b5cf9b47e60a",
     "locked": true,
     "points": 2,
     "schema_version": 3,
     "solution": false,
     "task": false
    }
   },
   "outputs": [],
   "source": []
  },
  {
   "cell_type": "markdown",
   "metadata": {},
   "source": [
    "Take a quick peek at the first few rows of the dataframe we just created, and then make a histogram of the column containing the lead values (notice that it has a different label than the previous dataframe)."
   ]
  },
  {
   "cell_type": "code",
   "execution_count": null,
   "metadata": {},
   "outputs": [],
   "source": [
    "leadlips2012[0:5]"
   ]
  },
  {
   "cell_type": "code",
   "execution_count": null,
   "metadata": {},
   "outputs": [],
   "source": [
    "leadlips2012.hist(column='Lead (ppm)', bins=10, edgecolor='white')\n",
    "pyplot.title('Lead levels in lipstick, n=400 (2012) \\n');"
   ]
  },
  {
   "cell_type": "markdown",
   "metadata": {},
   "source": [
    "Now, let's get the descriptive statistics for this data set, and confirm that they match with those shown in Dr. Sainani's video. "
   ]
  },
  {
   "cell_type": "code",
   "execution_count": null,
   "metadata": {
    "deletable": false,
    "nbgrader": {
     "cell_type": "code",
     "checksum": "380a34950603aa82944300c817855ddc",
     "grade": false,
     "grade_id": "cell-a7ddb3daf0265efd",
     "locked": false,
     "schema_version": 3,
     "solution": true,
     "task": false
    }
   },
   "outputs": [],
   "source": [
    "# Assign the following variables correctly.\n",
    "leadlips2012_ppm_mean = 0\n",
    "leadlips2012_ppm_median = 0\n",
    "leadlips2012_ppm_std = 0\n",
    "leadlips2012_ppm_max = 0\n",
    "\n",
    "# YOUR CODE HERE\n",
    "raise NotImplementedError()"
   ]
  },
  {
   "cell_type": "code",
   "execution_count": null,
   "metadata": {
    "deletable": false,
    "editable": false,
    "nbgrader": {
     "cell_type": "code",
     "checksum": "9af9f84c05d8e22807168aa37c7be944",
     "grade": true,
     "grade_id": "cell-18a8b72a57ec6ffa",
     "locked": true,
     "points": 2,
     "schema_version": 3,
     "solution": false,
     "task": false
    }
   },
   "outputs": [],
   "source": [
    "print('The mean value is {:.2f}'.format(leadlips2012_ppm_mean))\n",
    "print('The median is {:.2f}'.format(leadlips2012_ppm_median))\n",
    "print('The standard deviation is {:.2f}'.format(leadlips2012_ppm_std))\n",
    "print('The maximum value is {:.2f}'.format(leadlips2012_ppm_max))"
   ]
  },
  {
   "cell_type": "markdown",
   "metadata": {},
   "source": [
    "The mean value, median, and standard deviation did not change much between the 2009 and 2012 studies, even though the earlier study only tested 22 samples. As Prof. Sainani points out, this goes to show that you can begin to describe a feature even with modest sample sizes.\n",
    "\n",
    "The maximum value in the second study was a lot higher: 7.19 compared to 3.06. The reason for seeing this higher maximum value in the later study is that, for a _right skewed_ distribution like this one, there are infrequent occurrences of a higher concentration of lead. These start to be detected with larger sample sizes.\n",
    "\n",
    "Next, we compute a few percentiles (noticing slight differences with the values shown by Sainani)."
   ]
  },
  {
   "cell_type": "code",
   "execution_count": null,
   "metadata": {
    "deletable": false,
    "nbgrader": {
     "cell_type": "code",
     "checksum": "d3b5346528c0e991ca2ee60949e50616",
     "grade": false,
     "grade_id": "cell-a079fe585a6f14dc",
     "locked": false,
     "schema_version": 3,
     "solution": true,
     "task": false
    }
   },
   "outputs": [],
   "source": [
    "# Assign the following variables correctly.\n",
    "leadlips2012_ppm_perc_99 = 0\n",
    "leadlips2012_ppm_perc_95 = 0\n",
    "leadlips2012_ppm_perc_90 = 0\n",
    "leadlips2012_ppm_perc_75 = 0\n",
    "\n",
    "# YOUR CODE HERE\n",
    "raise NotImplementedError()"
   ]
  },
  {
   "cell_type": "code",
   "execution_count": null,
   "metadata": {
    "deletable": false,
    "editable": false,
    "nbgrader": {
     "cell_type": "code",
     "checksum": "27e09bf025092bd01f713eb3b96094cb",
     "grade": true,
     "grade_id": "cell-e5ab1814344b3119",
     "locked": true,
     "points": 2,
     "schema_version": 3,
     "solution": false,
     "task": false
    }
   },
   "outputs": [],
   "source": [
    "print('The 99 percentile is {:.2f}'.format(leadlips2012_ppm_perc_99))\n",
    "print('The 95 percentile is {:.2f}'.format(leadlips2012_ppm_perc_95))\n",
    "print('The 90 percentile is {:.2f}'.format(leadlips2012_ppm_perc_90))\n",
    "print('The 75 percentile is {:.2f}'.format(leadlips2012_ppm_perc_75))"
   ]
  },
  {
   "cell_type": "markdown",
   "metadata": {},
   "source": [
    "In the previous lesson, you learned to make box plots using `pyplot`, which requires extracting the values of the data series of interest into NumPy arrays. It turns out, `pandas` can make box plots directly with a column of the dataframe. "
   ]
  },
  {
   "cell_type": "code",
   "execution_count": null,
   "metadata": {},
   "outputs": [],
   "source": [
    "leadlips2012.boxplot(column='Lead (ppm)', figsize=(6,8))\n",
    "plt.title('Lead levels in lipstick, n=400 (2012) \\n');"
   ]
  },
  {
   "cell_type": "markdown",
   "metadata": {},
   "source": [
    "The box plot also indicates a right skewed distribution, and shows a number of outliers on the high end of the range: some lipsticks have an especially high level of lead."
   ]
  },
  {
   "cell_type": "markdown",
   "metadata": {},
   "source": [
    "## Lead exposure from lipstick\n",
    "\n",
    "A European study of exposure to various cosmetic products [Ref. 2] offers some useful statistics about lipstick use. In figure 6, the paper shows a histogram of lipstick applied by the participants in the study. The distribution is right skewed: most users apply a moderate amount of lipstick daily, but there are a few heavy users in the tail of the distribution. The number of participants was 30,000, and the summary statistics are:\n",
    "\n",
    "* mean value = 24.61 mg/day,\n",
    "* median = 17.11 mg/day,\n",
    "* minimum = 0.13 mg/day,\n",
    "* maximum = 217.53 mg/day\n",
    "* 95th percentile = 72.51 mg/day\n",
    "\n",
    "Prof. Sainani suggests the following exercise: suppose that users ingest half of the lipstick they apply daily—seems like a conservative estimate, given that some lipstick will end up on cups, napkins, and (as Sainani amusingly points out) other people. We'd like to calculate:\n",
    "\n",
    "1. the typical lead exposure from lipstick, using the medians\n",
    "2. the highest daily lead exposure from lipstick, using the maxima\n",
    "\n",
    "From the 2012 FDA study of lead in lipstick: the median is 0.89 ppm (µg/g) and the maximum is 7.19 ppm. From the European study on exposure to cosmetics, the median daily usage of lipstick is 17.11 mg, and the maximum is 217.53. Now… keep your units straight!\n",
    "\n",
    "$ 1 \\mu\\text{g} = 10^{-3} \\text{mg} = 10^{-6} \\text{g}$"
   ]
  },
  {
   "cell_type": "code",
   "execution_count": null,
   "metadata": {
    "deletable": false,
    "nbgrader": {
     "cell_type": "code",
     "checksum": "2663ddc6c5d62fb2fd6be2b1dbb6c147",
     "grade": false,
     "grade_id": "cell-bba09ca846ddd714",
     "locked": false,
     "schema_version": 3,
     "solution": true,
     "task": false
    }
   },
   "outputs": [],
   "source": [
    "# Find the typical daily exposure and the maximum daily exposure, assign the following variables correctly:\n",
    "typical_exp = 0\n",
    "max_exp = 0\n",
    "\n",
    "# Example: Typical user: 0.89 µg/g * 17.11 mg/day (divide by 1000 to get µg)\n",
    "\n",
    "# YOUR CODE HERE\n",
    "raise NotImplementedError()"
   ]
  },
  {
   "cell_type": "code",
   "execution_count": null,
   "metadata": {
    "deletable": false,
    "editable": false,
    "nbgrader": {
     "cell_type": "code",
     "checksum": "6637fb4828788bc17240ffe4ce75c5c8",
     "grade": true,
     "grade_id": "cell-7084385426949604",
     "locked": true,
     "points": 2,
     "schema_version": 3,
     "solution": false,
     "task": false
    }
   },
   "outputs": [],
   "source": [
    "print('The typical daily exposure to lead from lipstick is {:.4f} µg/day.'.format(typical_exp))\n",
    "print('Half of this amount is ingested: {:.4f} µg/day.'.format(typical_exp/2))\n",
    "print('--------------------------------------------------------------------')\n",
    "print('The maximum daily exposure to lead from lipstick is {:.2f} µg/day.'.format(max_exp))\n",
    "print('Half of this amount is ingested: {:.2f} µg/day.'.format(max_exp/2))"
   ]
  },
  {
   "cell_type": "markdown",
   "metadata": {},
   "source": [
    "The maximum daily exposure is 100 times larger than the typical exposure, based on the median. Note that this maximum occurs for one user over 30,000 (the size of the study sample), and one lipstick over 400—so it's a chance of one in 12 million!"
   ]
  },
  {
   "cell_type": "markdown",
   "metadata": {},
   "source": [
    "## Is this bad?\n",
    "\n",
    "The US Food and Drug Administration provides a recommended _maximum_ lead level of 0.1 ppm in candy to be consumed by small children [3]. But most food products are well below the maximum. \n",
    "For example, the FDA data on 40 samples of milk chocolate in the years 1991–2002 showed a mean lead level of 0.025 ppm [4]. That's of course much lower than the concentration of lead in lipstick, but the _consumption_ of chocolate is much higher! Forbes reported that the average American eats about 9.5 lbs (4.3 kg) of chocolate each year [6]."
   ]
  },
  {
   "cell_type": "code",
   "execution_count": null,
   "metadata": {},
   "outputs": [],
   "source": [
    "print('The average American consumes {:.1f} grams of chocolate per day.'.format(4.3*1000/365))\n",
    "print('This amounts to {:.2f} µg of lead exposure from chocolate (mean of FDA data).'.format(4.3*1000/365*0.025))"
   ]
  },
  {
   "cell_type": "markdown",
   "metadata": {},
   "source": [
    "Compared to the median exposure to lead from lipstick of 0.0076 µg per day, the exposure from chocolate is almost 40 times higher!\n",
    "\n",
    "Clearly the consumer group that generated all those headlines was scaremongering. And now you have the tools to fact-check many of those scary health-related \"fake news.\""
   ]
  },
  {
   "cell_type": "markdown",
   "metadata": {},
   "source": [
    "## References\n",
    "\n",
    "1. [Limiting Lead in Lipstick and Other Cosmetics](https://www.fda.gov/cosmetics/productsingredients/products/ucm137224.htm#reference1), US Food and Drug Administration.\n",
    "2. European consumer exposure to cosmetic products, a framework for conducting population exposure assessments  (2007). Hall, B., et al., _Food and Chemical Toxicology_ **45**(11): 2097-2108. [Available on PubMed.](https://www.ncbi.nlm.nih.gov/pubmed/17683841)\n",
    "3. US FDA Guidance for Industry: [Lead in Candy Likely To Be Consumed Frequently by Small Children: Recommended Maximum Level and Enforcement Policy](https://www.fda.gov/Food/GuidanceRegulation/GuidanceDocumentsRegulatoryInformation/ucm077904.htm) (2005, revised 2006).\n",
    "4. US FDA [Supporting Document for Recommended Maximum Level for Lead in Candy Likely To Be Consumed Frequently by Small Children](https://www.fda.gov/food/foodborneillnesscontaminants/metals/ucm172050.htm#lead) (2006).\n",
    "5. [The World's Biggest Chocolate Consumers](https://www.forbes.com/sites/niallmccarthy/2015/07/22/the-worlds-biggest-chocolate-consumers-infographic/#5399969b4484), Forbes, July 22nd 2015."
   ]
  },
  {
   "cell_type": "markdown",
   "metadata": {},
   "source": [
    "### Recommended viewing\n",
    "\n",
    "This lesson was based on the followign lecture from [\"Statistics in Medicine,\"](https://lagunita.stanford.edu/courses/Medicine/MedStats-SP/SelfPaced/about), a free course in Stanford Online by Prof. Kristin Sainani:\n",
    "* [Exploring real data: lead in lipstick](https://youtu.be/nlKIT-_b2jU)"
   ]
  }
 ],
 "metadata": {
  "kernelspec": {
   "display_name": "Python 3",
   "language": "python",
   "name": "python3"
  },
  "language_info": {
   "codemirror_mode": {
    "name": "ipython",
    "version": 3
   },
   "file_extension": ".py",
   "mimetype": "text/x-python",
   "name": "python",
   "nbconvert_exporter": "python",
   "pygments_lexer": "ipython3",
   "version": "3.8.3"
  }
 },
 "nbformat": 4,
 "nbformat_minor": 4
}
